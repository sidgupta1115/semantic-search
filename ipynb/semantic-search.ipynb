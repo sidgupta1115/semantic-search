{
 "cells": [
  {
   "cell_type": "code",
   "execution_count": 5,
   "metadata": {},
   "outputs": [],
   "source": [
    "import requests\n",
    "import re\n",
    "import pandas as pd\n",
    "import wikipedia\n",
    "import pprint"
   ]
  },
  {
   "cell_type": "markdown",
   "metadata": {
    "collapsed": true
   },
   "source": [
    "# Part 1 Collect all Machine Learing and Business Software categories"
   ]
  },
  {
   "cell_type": "code",
   "execution_count": 5,
   "metadata": {
    "collapsed": true
   },
   "outputs": [],
   "source": [
    "# Make a suite of functions to get articles based on categories and their respective text in dataframe\n",
    "def generate_category(category):\n",
    "    '''\n",
    "    format a category for insertion in to a wikipedia api call\n",
    "    '''\n",
    "    category = re.sub('\\s','_',category)\n",
    "    return category"
   ]
  },
  {
   "cell_type": "code",
   "execution_count": 6,
   "metadata": {
    "collapsed": true
   },
   "outputs": [],
   "source": [
    "def generate_query(category):\n",
    "    '''\n",
    "    Format an api call for requests\n",
    "    '''\n",
    "    query = \"\"\"\n",
    "            http://en.wikipedia.org/w/api.php?\n",
    "            action=query&\n",
    "            format=json&\n",
    "            list=categorymembers&\n",
    "            cmlimit=max&\n",
    "            explaintext=True&\n",
    "            cmtitle=Category:{} \n",
    "            \n",
    "            \"\"\".format(generate_category(category))\n",
    "    query = re.sub('\\s','',query)\n",
    "    return query"
   ]
  },
  {
   "cell_type": "code",
   "execution_count": 7,
   "metadata": {
    "collapsed": true
   },
   "outputs": [],
   "source": [
    "def execute_category_query(category):\n",
    "    '''\n",
    "    Executes a category qeury and returns a \n",
    "    DataFrame of the category members\n",
    "    '''\n",
    "    \n",
    "    r = requests.get(generate_query(category))\n",
    "    response = r.json()\n",
    "    return pd.DataFrame(response['query']['categorymembers'])"
   ]
  },
  {
   "cell_type": "code",
   "execution_count": 8,
   "metadata": {
    "collapsed": true
   },
   "outputs": [],
   "source": [
    "def remove_category(category):\n",
    "    category = re.sub('Category:','',category)\n",
    "    return category"
   ]
  },
  {
   "cell_type": "code",
   "execution_count": 6,
   "metadata": {
    "collapsed": true
   },
   "outputs": [],
   "source": [
    "def get_all_pages_rec(category, level):\n",
    "    category_df = execute_category_query(category)\n",
    "    \n",
    "    if category_df.shape == (0, 0):\n",
    "        return None\n",
    "    pages_list = []\n",
    "    \n",
    "    \n",
    "    category_mask = category_df['title'].str.contains('Category:')\n",
    "    pages_df = category_df[~category_mask]\n",
    "    pages_list.append(pages_df)\n",
    "    \n",
    "    categories = category_df[category_mask]['title']\\\n",
    "                            .str.replace('Category:','').tolist()\n",
    "    if len(categories) > 0:\n",
    "        for cat in categories:\n",
    "            if level>0:\n",
    "                level-=1\n",
    "                pages_list.append(get_all_pages_rec(cat, level-1))\n",
    "                level+=1\n",
    "    pages_df = pd.concat(pages_list)\n",
    "    pages_df.reset_index(drop=True)\n",
    "    return pages_df"
   ]
  },
  {
   "cell_type": "code",
   "execution_count": 9,
   "metadata": {
    "collapsed": true
   },
   "outputs": [],
   "source": [
    "def get_whole_category(category, level):\n",
    "    df = get_all_pages_rec(category, level)\n",
    "    df = df.drop_duplicates().reset_index(drop=True)\n",
    "    df['category_id'] = category\n",
    "    return df"
   ]
  },
  {
   "cell_type": "markdown",
   "metadata": {},
   "source": [
    "Use this suite of functions to get all the Wikipedia articles in the 'Machine learning' and 'Business software' category"
   ]
  },
  {
   "cell_type": "code",
   "execution_count": 8,
   "metadata": {},
   "outputs": [
    {
     "data": {
      "text/plain": [
       "(1107, 4)"
      ]
     },
     "execution_count": 8,
     "metadata": {},
     "output_type": "execute_result"
    }
   ],
   "source": [
    "ml_df=get_whole_category('Machine learning', 5)\n",
    "ml_df.shape"
   ]
  },
  {
   "cell_type": "code",
   "execution_count": 9,
   "metadata": {},
   "outputs": [
    {
     "data": {
      "text/plain": [
       "(1550, 4)"
      ]
     },
     "execution_count": 9,
     "metadata": {},
     "output_type": "execute_result"
    }
   ],
   "source": [
    "bs_df=get_whole_category('Business software', 2)\n",
    "bs_df.shape"
   ]
  },
  {
   "cell_type": "code",
   "execution_count": 10,
   "metadata": {
    "collapsed": true
   },
   "outputs": [],
   "source": [
    "pages_df=pd.concat([ml_df, bs_df], axis=0, ignore_index=True)"
   ]
  },
  {
   "cell_type": "code",
   "execution_count": 11,
   "metadata": {
    "collapsed": true
   },
   "outputs": [],
   "source": [
    "pages_df=pages_df.drop([\"ns\"], axis=1)"
   ]
  },
  {
   "cell_type": "markdown",
   "metadata": {
    "collapsed": true
   },
   "source": [
    "Define a text cleaner that formats text to lowercase alpha-numeric characters and removes LateX formatting that may arise from mathematical equations within the articles.\n",
    "\n",
    "We will use this cleaner when we query text from articles using the Wikipedia API"
   ]
  },
  {
   "cell_type": "code",
   "execution_count": 86,
   "metadata": {
    "collapsed": true
   },
   "outputs": [],
   "source": [
    "def cleaner(message):\n",
    "    message = re.sub('[.,\\/#!$%\\^&\\*;:{}\\+=<>_`~()]', ' ', message)\n",
    "    message = re.sub('[^a-z0-9 ]','', message.lower())\n",
    "    message = re.sub('displaystyle',' ', message)\n",
    "    message = re.sub('\\d+',' NUMBER ',message)\n",
    "    message = re.sub('\\s+',' ',message)\n",
    "    return message"
   ]
  },
  {
   "cell_type": "code",
   "execution_count": 80,
   "metadata": {
    "collapsed": true
   },
   "outputs": [],
   "source": [
    "def get_text(page_id):\n",
    "    try:\n",
    "        if type(page_id) == int:\n",
    "            page = wikipedia.WikipediaPage(pageid=str(page_id), preload = True)\n",
    "            text= cleaner(page.content)\n",
    "        else:\n",
    "            page = wikipedia.WikipediaPage(title=page_id, preload = True)\n",
    "            text= cleaner(page.content)\n",
    "    except:\n",
    "        text='failed'\n",
    "    return text"
   ]
  },
  {
   "cell_type": "code",
   "execution_count": 16,
   "metadata": {
    "collapsed": true
   },
   "outputs": [],
   "source": [
    "pages_df[\"text\"]=pages_df['pageid'].apply(get_text)"
   ]
  },
  {
   "cell_type": "code",
   "execution_count": null,
   "metadata": {
    "collapsed": true
   },
   "outputs": [],
   "source": []
  },
  {
   "cell_type": "code",
   "execution_count": null,
   "metadata": {
    "collapsed": true
   },
   "outputs": [],
   "source": []
  },
  {
   "cell_type": "code",
   "execution_count": null,
   "metadata": {
    "collapsed": true
   },
   "outputs": [],
   "source": []
  },
  {
   "cell_type": "code",
   "execution_count": 222,
   "metadata": {},
   "outputs": [
    {
     "ename": "NameError",
     "evalue": "name 'pages_df' is not defined",
     "output_type": "error",
     "traceback": [
      "\u001b[0;31m---------------------------------------------------------------------------\u001b[0m",
      "\u001b[0;31mNameError\u001b[0m                                 Traceback (most recent call last)",
      "\u001b[0;32m<ipython-input-222-d480e931c8f2>\u001b[0m in \u001b[0;36m<module>\u001b[0;34m()\u001b[0m\n\u001b[0;32m----> 1\u001b[0;31m \u001b[0mpages_df\u001b[0m\u001b[0;34m.\u001b[0m\u001b[0msample\u001b[0m\u001b[0;34m(\u001b[0m\u001b[0;36m20\u001b[0m\u001b[0;34m)\u001b[0m\u001b[0;34m\u001b[0m\u001b[0m\n\u001b[0m",
      "\u001b[0;31mNameError\u001b[0m: name 'pages_df' is not defined"
     ]
    }
   ],
   "source": [
    "pages_df.sample(20)"
   ]
  },
  {
   "cell_type": "code",
   "execution_count": 22,
   "metadata": {
    "collapsed": true
   },
   "outputs": [],
   "source": [
    "pages_df.to_pickle(\"pages_df.p\")"
   ]
  },
  {
   "cell_type": "code",
   "execution_count": 275,
   "metadata": {
    "collapsed": true
   },
   "outputs": [],
   "source": [
    "df = pd.read_pickle(\"pages_df.p\")"
   ]
  },
  {
   "cell_type": "code",
   "execution_count": 276,
   "metadata": {
    "collapsed": true
   },
   "outputs": [],
   "source": [
    "#I unforutnately pickled my dataframe before cleaning a bit further\n",
    "# I need to remove entries where my text reader failed\n",
    "\n",
    "mask1=df['text'].map(len) !=6\n",
    "failed_mask=df['text'].str.contains(\"failed\") == False"
   ]
  },
  {
   "cell_type": "code",
   "execution_count": 277,
   "metadata": {
    "collapsed": true
   },
   "outputs": [],
   "source": [
    "df=df[mask1 & failed_mask]"
   ]
  },
  {
   "cell_type": "code",
   "execution_count": 278,
   "metadata": {},
   "outputs": [
    {
     "data": {
      "text/plain": [
       "(2478, 4)"
      ]
     },
     "execution_count": 278,
     "metadata": {},
     "output_type": "execute_result"
    }
   ],
   "source": [
    "df.shape"
   ]
  },
  {
   "cell_type": "code",
   "execution_count": null,
   "metadata": {
    "collapsed": true
   },
   "outputs": [],
   "source": [
    "# And title entries that begine with Portal: and User:"
   ]
  },
  {
   "cell_type": "code",
   "execution_count": 279,
   "metadata": {
    "collapsed": true
   },
   "outputs": [],
   "source": [
    "portal_mask=df['title'].str.contains(\"Portal:\") == False\n",
    "user_mask=df['title'].str.contains(\"User:\") == False"
   ]
  },
  {
   "cell_type": "code",
   "execution_count": 280,
   "metadata": {},
   "outputs": [
    {
     "name": "stderr",
     "output_type": "stream",
     "text": [
      "/opt/conda/lib/python3.6/site-packages/ipykernel_launcher.py:2: UserWarning: Boolean Series key will be reindexed to match DataFrame index.\n",
      "  \n"
     ]
    }
   ],
   "source": [
    "df=df[user_mask]\n",
    "df=df[portal_mask]"
   ]
  },
  {
   "cell_type": "code",
   "execution_count": 301,
   "metadata": {},
   "outputs": [
    {
     "data": {
      "text/plain": [
       "(2469, 4)"
      ]
     },
     "execution_count": 301,
     "metadata": {},
     "output_type": "execute_result"
    }
   ],
   "source": [
    "df.shape"
   ]
  },
  {
   "cell_type": "code",
   "execution_count": 300,
   "metadata": {
    "collapsed": true
   },
   "outputs": [],
   "source": [
    "df = df.reset_index(drop=True)"
   ]
  },
  {
   "cell_type": "code",
   "execution_count": null,
   "metadata": {
    "collapsed": true
   },
   "outputs": [],
   "source": []
  },
  {
   "cell_type": "code",
   "execution_count": null,
   "metadata": {
    "collapsed": true
   },
   "outputs": [],
   "source": [
    "###### Load this datafram into a postgres database"
   ]
  },
  {
   "cell_type": "code",
   "execution_count": null,
   "metadata": {
    "collapsed": true
   },
   "outputs": [],
   "source": []
  },
  {
   "cell_type": "code",
   "execution_count": 10,
   "metadata": {
    "collapsed": true
   },
   "outputs": [],
   "source": [
    "import psycopg2 as pg2\n",
    "from psycopg2.extras import RealDictCursor"
   ]
  },
  {
   "cell_type": "code",
   "execution_count": 255,
   "metadata": {
    "collapsed": true
   },
   "outputs": [],
   "source": [
    "from sqlalchemy import create_engine\n",
    "from sqlalchemy import insert, select\n",
    "from sqlalchemy import Table, Column, MetaData, Integer, String\n",
    "\n",
    "import numpy as np\n",
    "import pandas as pd\n",
    "import seaborn as sns\n",
    "from sklearn.decomposition import TruncatedSVD\n",
    "from sklearn.feature_extraction.text import TfidfVectorizer, CountVectorizer\n",
    "from sklearn.model_selection import GridSearchCV, train_test_split\n",
    "from sklearn.neighbors import KNeighborsClassifier\n",
    "from sklearn.preprocessing import StandardScaler\n",
    "from sklearn.preprocessing import LabelEncoder\n",
    "import matplotlib.pyplot as plt"
   ]
  },
  {
   "cell_type": "code",
   "execution_count": null,
   "metadata": {
    "collapsed": true
   },
   "outputs": [],
   "source": []
  },
  {
   "cell_type": "code",
   "execution_count": 256,
   "metadata": {
    "collapsed": true
   },
   "outputs": [],
   "source": [
    "engine = create_engine(\"postgresql://postgres@postgres/postgres\")"
   ]
  },
  {
   "cell_type": "code",
   "execution_count": 257,
   "metadata": {
    "collapsed": true
   },
   "outputs": [],
   "source": [
    "connection=engine.connect()"
   ]
  },
  {
   "cell_type": "code",
   "execution_count": 258,
   "metadata": {},
   "outputs": [
    {
     "name": "stdout",
     "output_type": "stream",
     "text": [
      "['pages', 'text']\n"
     ]
    }
   ],
   "source": [
    "print(engine.table_names())"
   ]
  },
  {
   "cell_type": "code",
   "execution_count": 259,
   "metadata": {
    "collapsed": true
   },
   "outputs": [],
   "source": [
    "pages=df.to_sql(\"pages\", con=engine, if_exists=\"replace\", index=False)"
   ]
  },
  {
   "cell_type": "code",
   "execution_count": 261,
   "metadata": {
    "collapsed": true
   },
   "outputs": [],
   "source": [
    "metadata=MetaData()"
   ]
  },
  {
   "cell_type": "code",
   "execution_count": 262,
   "metadata": {
    "collapsed": true
   },
   "outputs": [],
   "source": [
    "#build pages table from df\n",
    "pages= Table('pages', metadata, autoload=True, autoload_with=engine)\n"
   ]
  },
  {
   "cell_type": "code",
   "execution_count": 263,
   "metadata": {},
   "outputs": [
    {
     "data": {
      "text/plain": [
       "['pageid', 'title', 'category_id', 'text']"
      ]
     },
     "execution_count": 263,
     "metadata": {},
     "output_type": "execute_result"
    }
   ],
   "source": [
    "pages.columns.keys()"
   ]
  },
  {
   "cell_type": "code",
   "execution_count": 264,
   "metadata": {
    "collapsed": true
   },
   "outputs": [],
   "source": [
    "#build text table\n",
    "text = Table('text', metadata,\n",
    "             Column('pageid', Integer()),\n",
    "             Column('text', String(), default='NaN')\n",
    ")\n"
   ]
  },
  {
   "cell_type": "code",
   "execution_count": 265,
   "metadata": {},
   "outputs": [
    {
     "data": {
      "text/plain": [
       "['pageid', 'text']"
      ]
     },
     "execution_count": 265,
     "metadata": {},
     "output_type": "execute_result"
    }
   ],
   "source": [
    "text.columns.keys()"
   ]
  },
  {
   "cell_type": "code",
   "execution_count": 267,
   "metadata": {
    "collapsed": true
   },
   "outputs": [],
   "source": [
    "metadata.create_all(engine)"
   ]
  },
  {
   "cell_type": "code",
   "execution_count": null,
   "metadata": {
    "collapsed": true
   },
   "outputs": [],
   "source": []
  },
  {
   "cell_type": "markdown",
   "metadata": {
    "collapsed": true
   },
   "source": [
    "\n",
    "# Part 2 Search \n",
    "Use Latent Semantic Analysis to return top 5 related articles given a search term query\n",
    "\n",
    "Algorithm:\n",
    "1. Vectorize all the text from the Wikipedia articles we collected\n",
    "2. Put those tokens in a document term matrix\n",
    "3. Reduce the dimensionality of the document term matrix\n",
    "4. Given a new search term vectorize and fit vector into a document term matrix in the same way\n",
    "5. Use cosine similarities between this DTM and the master DTM to find the nearest articles"
   ]
  },
  {
   "cell_type": "markdown",
   "metadata": {},
   "source": [
    "Vectorize text from Machine Learning and Business Software articles using a TfidfVectorizer.\n",
    "Using a TfidfVectorizer will downweight the importance of words that appear across articles"
   ]
  },
  {
   "cell_type": "code",
   "execution_count": null,
   "metadata": {
    "collapsed": true
   },
   "outputs": [],
   "source": [
    "text=df['text']\n",
    "tfidf_vectorizer = TfidfVectorizer(min_df = 2, stop_words = 'english', ngram_range=(2, 5))\n",
    "document_term_matrix = tfidf_vectorizer.fit_transform(text)"
   ]
  },
  {
   "cell_type": "markdown",
   "metadata": {
    "collapsed": true
   },
   "source": [
    "I got the best results using a min_df of 2 and n_gram range from 2 to 5"
   ]
  },
  {
   "cell_type": "markdown",
   "metadata": {},
   "source": [
    "### Singular Value Decomposition"
   ]
  },
  {
   "cell_type": "markdown",
   "metadata": {},
   "source": [
    "We can use SVD as a dimensionality reduction technique so our document term matrix will be represented with the most important tokens"
   ]
  },
  {
   "cell_type": "code",
   "execution_count": 303,
   "metadata": {
    "collapsed": true
   },
   "outputs": [],
   "source": [
    "# Truncated the document term matrix to 300 components; fit tranform document term matrix\n",
    "SVD = TruncatedSVD(300)\n",
    "latent_semantic_analysis = SVD.fit_transform(document_term_matrix)"
   ]
  },
  {
   "cell_type": "markdown",
   "metadata": {},
   "source": [
    "### Sample Search"
   ]
  },
  {
   "cell_type": "code",
   "execution_count": 304,
   "metadata": {
    "collapsed": true
   },
   "outputs": [],
   "source": [
    "#sample search term\n",
    "search_term=\"artficial intelligence\""
   ]
  },
  {
   "cell_type": "code",
   "execution_count": 305,
   "metadata": {
    "collapsed": true
   },
   "outputs": [],
   "source": [
    "#vectorize the term the same way\n",
    "search_term_vec = tfidf_vectorizer.transform([search_term])\n",
    "search_term_lsa = SVD.transform(search_term_vec)"
   ]
  },
  {
   "cell_type": "code",
   "execution_count": 306,
   "metadata": {
    "collapsed": true
   },
   "outputs": [],
   "source": [
    "#generate cosine similarities between search term vector and our master latent semantic analysis vector\n",
    "cosine_similarities = latent_semantic_analysis.dot(search_term_lsa.T).ravel()"
   ]
  },
  {
   "cell_type": "code",
   "execution_count": null,
   "metadata": {
    "collapsed": true,
    "scrolled": true
   },
   "outputs": [],
   "source": []
  },
  {
   "cell_type": "code",
   "execution_count": 307,
   "metadata": {},
   "outputs": [
    {
     "data": {
      "text/plain": [
       "array([2468,  819,  826,  825,  824])"
      ]
     },
     "execution_count": 307,
     "metadata": {},
     "output_type": "execute_result"
    }
   ],
   "source": [
    "#get the indices of the top 5 most related terms\n",
    "cosine_similarities.argsort()[:-6:-1]"
   ]
  },
  {
   "cell_type": "code",
   "execution_count": 308,
   "metadata": {},
   "outputs": [
    {
     "data": {
      "text/plain": [
       "['XDB Enterprise Server',\n",
       " 'Inverted pendulum',\n",
       " 'Bernoulli scheme',\n",
       " 'Baum–Welch algorithm',\n",
       " 'Algorithmic composition']"
      ]
     },
     "execution_count": 308,
     "metadata": {},
     "output_type": "execute_result"
    }
   ],
   "source": [
    "[df.loc[i]['title'] for i in cosine_similarities.argsort()[:-6:-1]]"
   ]
  },
  {
   "cell_type": "markdown",
   "metadata": {},
   "source": [
    "### This search function replicates the process above"
   ]
  },
  {
   "cell_type": "code",
   "execution_count": 309,
   "metadata": {
    "collapsed": true
   },
   "outputs": [],
   "source": [
    "def search(search_term):\n",
    "    \n",
    "    search_term_vec = tfidf_vectorizer.transform([search_term])\n",
    "    search_term_lsa = SVD.transform(search_term_vec)\n",
    "    \n",
    "    cosine_similarities = latent_semantic_analysis.dot(search_term_lsa.T).ravel()\n",
    "    top_five_index=cosine_similarities.argsort()[:-6:-1]\n",
    "    top_five=[df.loc[i]['title'] for i in top_five_index]\n",
    "    \n",
    "    return top_five"
   ]
  },
  {
   "cell_type": "code",
   "execution_count": 310,
   "metadata": {
    "collapsed": true
   },
   "outputs": [],
   "source": [
    "test_terms=[\"artficial intelligence\", \"Microsoft Excel\", \"Naive Bayes\", \"Oracle\", \"Alan Turing\", \"Bill Gates\"]\n",
    "results={term: search(term) for term in test_terms}"
   ]
  },
  {
   "cell_type": "code",
   "execution_count": 311,
   "metadata": {},
   "outputs": [
    {
     "name": "stdout",
     "output_type": "stream",
     "text": [
      "{'Alan Turing': ['ELIZA',\n",
      "                 'Zoubin Ghahramani',\n",
      "                 'Melomics',\n",
      "                 'Algorithmic composition',\n",
      "                 'IBM 709/90 9PAC'],\n",
      " 'Bill Gates': ['XDB Enterprise Server',\n",
      "                'Inverted pendulum',\n",
      "                'Bernoulli scheme',\n",
      "                'Baum–Welch algorithm',\n",
      "                'Algorithmic composition'],\n",
      " 'Microsoft Excel': ['Jedox',\n",
      "                     'Palo (OLAP database)',\n",
      "                     'Pivot chart',\n",
      "                     'SuperCalc',\n",
      "                     'Gnumeric'],\n",
      " 'Naive Bayes': ['Averaged one-dependence estimators',\n",
      "                 'Naive Bayes classifier',\n",
      "                 'Multiclass classification',\n",
      "                 'Language model',\n",
      "                 'Predictive Model Markup Language'],\n",
      " 'Oracle': ['XDB Enterprise Server',\n",
      "            'Inverted pendulum',\n",
      "            'Bernoulli scheme',\n",
      "            'Baum–Welch algorithm',\n",
      "            'Algorithmic composition'],\n",
      " 'artficial intelligence': ['XDB Enterprise Server',\n",
      "                            'Inverted pendulum',\n",
      "                            'Bernoulli scheme',\n",
      "                            'Baum–Welch algorithm',\n",
      "                            'Algorithmic composition']}\n"
     ]
    }
   ],
   "source": [
    "pprint.pprint(results)"
   ]
  },
  {
   "cell_type": "markdown",
   "metadata": {
    "collapsed": true
   },
   "source": [
    "# Part 3 Predictive Model for categorizing Wikipedia Articles using on LSA"
   ]
  },
  {
   "cell_type": "markdown",
   "metadata": {
    "collapsed": true
   },
   "source": [
    "Label encode categorical label\n",
    "0s are Business Software categories and 1s are Machine Learing categories"
   ]
  },
  {
   "cell_type": "code",
   "execution_count": 328,
   "metadata": {},
   "outputs": [
    {
     "data": {
      "text/html": [
       "<div>\n",
       "<table border=\"1\" class=\"dataframe\">\n",
       "  <thead>\n",
       "    <tr style=\"text-align: right;\">\n",
       "      <th></th>\n",
       "      <th>pageid</th>\n",
       "      <th>title</th>\n",
       "      <th>category_id</th>\n",
       "      <th>text</th>\n",
       "      <th>category_label</th>\n",
       "    </tr>\n",
       "  </thead>\n",
       "  <tbody>\n",
       "    <tr>\n",
       "      <th>1171</th>\n",
       "      <td>54083259</td>\n",
       "      <td>Microsoft Dynamics 365 for Finance and Operations</td>\n",
       "      <td>Business software</td>\n",
       "      <td>microsoft dynamics NUMBER for finance and oper...</td>\n",
       "      <td>0</td>\n",
       "    </tr>\n",
       "    <tr>\n",
       "      <th>965</th>\n",
       "      <td>7498882</td>\n",
       "      <td>Sinkov statistic</td>\n",
       "      <td>Machine learning</td>\n",
       "      <td>sinkov statistics also known as logweight stat...</td>\n",
       "      <td>1</td>\n",
       "    </tr>\n",
       "    <tr>\n",
       "      <th>867</th>\n",
       "      <td>2016186</td>\n",
       "      <td>Factor graph</td>\n",
       "      <td>Machine learning</td>\n",
       "      <td>a factor graph is a bipartite graph representi...</td>\n",
       "      <td>1</td>\n",
       "    </tr>\n",
       "    <tr>\n",
       "      <th>932</th>\n",
       "      <td>10246907</td>\n",
       "      <td>Steve Omohundro</td>\n",
       "      <td>Machine learning</td>\n",
       "      <td>stephen m omohundro born NUMBER is an american...</td>\n",
       "      <td>1</td>\n",
       "    </tr>\n",
       "    <tr>\n",
       "      <th>1558</th>\n",
       "      <td>41171074</td>\n",
       "      <td>Realisor</td>\n",
       "      <td>Business software</td>\n",
       "      <td>realisor is a project management tool produced...</td>\n",
       "      <td>0</td>\n",
       "    </tr>\n",
       "  </tbody>\n",
       "</table>\n",
       "</div>"
      ],
      "text/plain": [
       "        pageid                                              title  \\\n",
       "1171  54083259  Microsoft Dynamics 365 for Finance and Operations   \n",
       "965    7498882                                   Sinkov statistic   \n",
       "867    2016186                                       Factor graph   \n",
       "932   10246907                                    Steve Omohundro   \n",
       "1558  41171074                                           Realisor   \n",
       "\n",
       "            category_id                                               text  \\\n",
       "1171  Business software  microsoft dynamics NUMBER for finance and oper...   \n",
       "965    Machine learning  sinkov statistics also known as logweight stat...   \n",
       "867    Machine learning  a factor graph is a bipartite graph representi...   \n",
       "932    Machine learning  stephen m omohundro born NUMBER is an american...   \n",
       "1558  Business software  realisor is a project management tool produced...   \n",
       "\n",
       "      category_label  \n",
       "1171               0  \n",
       "965                1  \n",
       "867                1  \n",
       "932                1  \n",
       "1558               0  "
      ]
     },
     "execution_count": 328,
     "metadata": {},
     "output_type": "execute_result"
    }
   ],
   "source": [
    "le = LabelEncoder()\n",
    "df['category_label']=le.fit_transform(df['category_id'])\n",
    "df.sample(5)"
   ]
  },
  {
   "cell_type": "code",
   "execution_count": 329,
   "metadata": {
    "collapsed": true
   },
   "outputs": [],
   "source": []
  },
  {
   "cell_type": "markdown",
   "metadata": {
    "collapsed": true
   },
   "source": [
    "Train on our model using the latent semantic analysis document term matrix and category lables"
   ]
  },
  {
   "cell_type": "code",
   "execution_count": 330,
   "metadata": {
    "collapsed": true
   },
   "outputs": [],
   "source": [
    "\n",
    "X=latent_semantic_analysis\n",
    "y=df['category_label']\n",
    "\n",
    "X_train, X_test, y_train, y_test = train_test_split(X, y, test_size = .3, random_state = 42)\n"
   ]
  },
  {
   "cell_type": "markdown",
   "metadata": {},
   "source": [
    "Use KNN model in grid search to find optimal parameter for our classifier"
   ]
  },
  {
   "cell_type": "code",
   "execution_count": 331,
   "metadata": {},
   "outputs": [
    {
     "data": {
      "text/plain": [
       "GridSearchCV(cv=None, error_score='raise',\n",
       "       estimator=KNeighborsClassifier(algorithm='auto', leaf_size=30, metric='minkowski',\n",
       "           metric_params=None, n_jobs=1, n_neighbors=5, p=2,\n",
       "           weights='uniform'),\n",
       "       fit_params={}, iid=True, n_jobs=-1,\n",
       "       param_grid={'n_neighbors': range(2, 30)}, pre_dispatch='2*n_jobs',\n",
       "       refit=True, return_train_score=True, scoring=None, verbose=0)"
      ]
     },
     "execution_count": 331,
     "metadata": {},
     "output_type": "execute_result"
    }
   ],
   "source": [
    "KNN = KNeighborsClassifier()\n",
    "gs = GridSearchCV(KNN, param_grid={'n_neighbors':range(2,30)}, n_jobs=-1)\n",
    "gs.fit(X_train, y_train)"
   ]
  },
  {
   "cell_type": "code",
   "execution_count": 332,
   "metadata": {},
   "outputs": [
    {
     "data": {
      "text/plain": [
       "0.89409722222222221"
      ]
     },
     "execution_count": 332,
     "metadata": {},
     "output_type": "execute_result"
    }
   ],
   "source": [
    "gs.best_score_"
   ]
  },
  {
   "cell_type": "markdown",
   "metadata": {
    "collapsed": true
   },
   "source": [
    "Looks like the model performs pretty well on the training data"
   ]
  },
  {
   "cell_type": "markdown",
   "metadata": {},
   "source": [
    "Lets look at where our optimal parameters are"
   ]
  },
  {
   "cell_type": "code",
   "execution_count": 333,
   "metadata": {},
   "outputs": [
    {
     "data": {
      "image/png": "[encoded data removed]",
      "text/plain": [
       "<matplotlib.figure.Figure at 0x7f630a8d4a90>"
      ]
     },
     "metadata": {},
     "output_type": "display_data"
    }
   ],
   "source": [
    "plt.plot(gs_res_df['param_n_neighbors'], gs_res_df['mean_test_score'])\n",
    "plt.show()"
   ]
  },
  {
   "cell_type": "markdown",
   "metadata": {},
   "source": [
    "Scores pretty well on the test data as well"
   ]
  },
  {
   "cell_type": "code",
   "execution_count": 334,
   "metadata": {},
   "outputs": [
    {
     "data": {
      "text/plain": [
       "0.88259109311740891"
      ]
     },
     "execution_count": 334,
     "metadata": {},
     "output_type": "execute_result"
    }
   ],
   "source": [
    "gs.score(X_test, y_test)"
   ]
  },
  {
   "cell_type": "markdown",
   "metadata": {},
   "source": [
    "Our best model uses 11 neighbors as its optimal parameter for category classification"
   ]
  },
  {
   "cell_type": "code",
   "execution_count": 335,
   "metadata": {},
   "outputs": [
    {
     "data": {
      "text/plain": [
       "KNeighborsClassifier(algorithm='auto', leaf_size=30, metric='minkowski',\n",
       "           metric_params=None, n_jobs=1, n_neighbors=26, p=2,\n",
       "           weights='uniform')"
      ]
     },
     "execution_count": 335,
     "metadata": {},
     "output_type": "execute_result"
    }
   ],
   "source": [
    "gs.best_estimator_"
   ]
  },
  {
   "cell_type": "markdown",
   "metadata": {},
   "source": [
    "Lets store this model so we can use it later to predict new categories for given articles."
   ]
  },
  {
   "cell_type": "code",
   "execution_count": 336,
   "metadata": {},
   "outputs": [
    {
     "data": {
      "text/plain": [
       "['model.p']"
      ]
     },
     "execution_count": 336,
     "metadata": {},
     "output_type": "execute_result"
    }
   ],
   "source": [
    "from sklearn.externals import joblib\n",
    "joblib.dump(gs.best_estimator_, 'model.p')"
   ]
  },
  {
   "cell_type": "markdown",
   "metadata": {
    "collapsed": true
   },
   "source": [
    "Lets make a suite of functions to help predict the category of an article given its text using the prediction model we made"
   ]
  },
  {
   "cell_type": "code",
   "execution_count": 338,
   "metadata": {
    "collapsed": true
   },
   "outputs": [],
   "source": [
    "from urllib.parse import urlparse"
   ]
  },
  {
   "cell_type": "code",
   "execution_count": 354,
   "metadata": {
    "collapsed": true
   },
   "outputs": [],
   "source": [
    "\n",
    "def title_text_from_url(url):\n",
    "    '''get the title and text of an article from its url'''\n",
    "    \n",
    "    url = urlparse(url)\n",
    "    path=url.path\n",
    "    \n",
    "    title=path.split(\"/wiki/\")[-1]\n",
    "    text=get_text(title)\n",
    "    \n",
    "    return (title, text)\n",
    "    "
   ]
  },
  {
   "cell_type": "code",
   "execution_count": 355,
   "metadata": {},
   "outputs": [
    {
     "data": {
      "text/plain": [
       "'machine learning is the subfield of computer science that according to arthur samuel gives computers'"
      ]
     },
     "execution_count": 355,
     "metadata": {},
     "output_type": "execute_result"
    }
   ],
   "source": [
    "ml_text=text_from_url('https://en.wikipedia.org/wiki/Machine_learning')\n",
    "ml_text[1][:100]"
   ]
  },
  {
   "cell_type": "code",
   "execution_count": 356,
   "metadata": {
    "collapsed": true
   },
   "outputs": [],
   "source": [
    "\n",
    "def vectorize_text(text):  \n",
    "    '''vectorize the text using the same \n",
    "    tfidf_vectorizer and SVD from the model'''\n",
    "    \n",
    "    search_term_vec = tfidf_vectorizer.transform([text])\n",
    "    search_term_lsa = SVD.transform(search_term_vec)\n",
    "    \n",
    "    return search_term_lsa\n",
    "    "
   ]
  },
  {
   "cell_type": "code",
   "execution_count": 358,
   "metadata": {
    "collapsed": true
   },
   "outputs": [],
   "source": [
    "\n",
    "def category_prediction(url):\n",
    "    '''make a category prediction using the text\n",
    "      of an article return the category prediction\n",
    "      and how likely the prediction is correct'''\n",
    "    \n",
    "    title, text=title_text_from_url(url)\n",
    "   \n",
    "    search_vector=vectorize_text(text)\n",
    "    \n",
    "    model = joblib.load('model.p') \n",
    "    pred=model.predict(search_vector)[0]\n",
    "    \n",
    "    if pred==0:\n",
    "        prob=model.predict_proba(search_vector)[0][0]*100\n",
    "    else:\n",
    "        prob=model.predict_proba(search_vector)[0][1]*100\n",
    "        \n",
    "    if pred==0:\n",
    "        pred='Business Software'\n",
    "    else:\n",
    "        pred='Machine Learning'\n",
    "        \n",
    "    return \"It's {}% likely {} is a {} type of article\".format(np.round(prob, 2), title, pred)"
   ]
  },
  {
   "cell_type": "code",
   "execution_count": 359,
   "metadata": {},
   "outputs": [
    {
     "data": {
      "text/plain": [
       "\"It's 100.0% likely Machine_learning is a Machine Learning type of article\""
      ]
     },
     "execution_count": 359,
     "metadata": {},
     "output_type": "execute_result"
    }
   ],
   "source": [
    "category_prediction('https://en.wikipedia.org/wiki/Machine_learning')"
   ]
  },
  {
   "cell_type": "code",
   "execution_count": 360,
   "metadata": {},
   "outputs": [
    {
     "data": {
      "text/plain": [
       "\"It's 92.31% likely Binary_number is a Machine Learning type of article\""
      ]
     },
     "execution_count": 360,
     "metadata": {},
     "output_type": "execute_result"
    }
   ],
   "source": [
    "category_prediction(\"https://en.wikipedia.org/wiki/Binary_number\")"
   ]
  },
  {
   "cell_type": "markdown",
   "metadata": {},
   "source": [
    "Lets test a bunch of Articles"
   ]
  },
  {
   "cell_type": "code",
   "execution_count": 347,
   "metadata": {
    "collapsed": true
   },
   "outputs": [],
   "source": [
    "binary_number=\"https://en.wikipedia.org/wiki/Binary_number\"\n",
    "lda=\"https://en.wikipedia.org/wiki/Latent_Dirichlet_allocation\"\n",
    "markov_model=\"https://en.wikipedia.org/wiki/Markov_model\"\n",
    "quickbooks=\"https://en.wikipedia.org/wiki/QuickBooks\"\n",
    "turbo_tax=\"https://en.wikipedia.org/wiki/TurboTax\"\n",
    "elon_musk=\"https://en.wikipedia.org/wiki/Elon_Musk\"\n",
    "mark_cuban=\"https://en.wikipedia.org/wiki/Mark_Cuban\"\n",
    "donald_trump=\"https://en.wikipedia.org/wiki/Donald_Trump\"\n",
    "microsoft_paint=\"https://en.wikipedia.org/wiki/Microsoft_Paint\"\n",
    "clustering=\"https://en.wikipedia.org/wiki/Cluster_analysis\"\n",
    "rick_and_morty=\"https://en.wikipedia.org/wiki/Rick_and_Morty\"\n",
    "\n",
    "test_urls=[binary_number, lsa, markov_model, quickbooks, turbo_tax, elon_musk,\\\n",
    "           mark_cuban, donald_trump, microsoft_paint, clustering, rick_and_morty]"
   ]
  },
  {
   "cell_type": "code",
   "execution_count": 361,
   "metadata": {
    "collapsed": true
   },
   "outputs": [],
   "source": [
    "results=[category_prediction(url) for url in test_urls]"
   ]
  },
  {
   "cell_type": "code",
   "execution_count": 362,
   "metadata": {},
   "outputs": [
    {
     "name": "stdout",
     "output_type": "stream",
     "text": [
      "[\"It's 92.31% likely Binary_number is a Machine Learning type of article\",\n",
      " \"It's 96.15% likely Latent_semantic_analysis is a Machine Learning type of \"\n",
      " 'article',\n",
      " \"It's 88.46% likely Markov_model is a Machine Learning type of article\",\n",
      " \"It's 50.0% likely QuickBooks is a Business Software type of article\",\n",
      " \"It's 53.85% likely TurboTax is a Business Software type of article\",\n",
      " \"It's 65.38% likely Elon_Musk is a Business Software type of article\",\n",
      " \"It's 80.77% likely Mark_Cuban is a Business Software type of article\",\n",
      " \"It's 69.23% likely Donald_Trump is a Business Software type of article\",\n",
      " \"It's 57.69% likely Microsoft_Paint is a Business Software type of article\",\n",
      " \"It's 100.0% likely Cluster_analysis is a Machine Learning type of article\",\n",
      " \"It's 61.54% likely Rick_and_Morty is a Business Software type of article\"]\n"
     ]
    }
   ],
   "source": [
    "pprint.pprint(results)"
   ]
  },
  {
   "cell_type": "code",
   "execution_count": null,
   "metadata": {
    "collapsed": true
   },
   "outputs": [],
   "source": []
  }
 ],
 "metadata": {
  "kernelspec": {
   "display_name": "Python 3",
   "language": "python",
   "name": "python3"
  },
  "language_info": {
   "codemirror_mode": {
    "name": "ipython",
    "version": 3
   },
   "file_extension": ".py",
   "mimetype": "text/x-python",
   "name": "python",
   "nbconvert_exporter": "python",
   "pygments_lexer": "ipython3",
   "version": "3.6.2"
  }
 },
 "nbformat": 4,
 "nbformat_minor": 2
}
