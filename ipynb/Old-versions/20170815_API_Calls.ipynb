{
 "cells": [
  {
   "cell_type": "code",
   "execution_count": 1,
   "metadata": {
    "collapsed": true
   },
   "outputs": [],
   "source": [
    "import requests\n",
    "import re\n",
    "import pandas as pd\n",
    "#look for python library for querying wikipedia\n",
    "\n",
    "\n",
    "# ``` import wikipedia\n",
    "# results = wikipedia.search(query='Machine Learning', results = 10)\n",
    "# page = wikipedia.WikipediaPage( results[0], preload = True)\n",
    "# page.content```"
   ]
  },
  {
   "cell_type": "code",
   "execution_count": null,
   "metadata": {
    "collapsed": true
   },
   "outputs": [],
   "source": [
    "!pip install psycopg2 --quiet"
   ]
  },
  {
   "cell_type": "markdown",
   "metadata": {},
   "source": [
    "## CRUD\n",
    "\n",
    "| | SQL | RESTful API |\n",
    "|:-:|:-:|:-:|\n",
    "| create | `INSERT` | `POST` |\n",
    "| read | `SELECT` | `GET` |\n",
    "| update | `UPDATE` | `PUT` |\n",
    "| delete | `DELETE` | `DELETE` |"
   ]
  },
  {
   "cell_type": "markdown",
   "metadata": {},
   "source": [
    "![](http://interactive.blockdiag.com/image?compression=deflate&encoding=base64&src=eJxLyslPzk7JTExXqOZSUFAvLE0tqlQoz8zOLEgFiqor6NopFKUWl-aUFIOY6uVFmSWpCiX5CgX5xSXpQBl1a65aACFZFx4)"
   ]
  },
  {
   "cell_type": "markdown",
   "metadata": {},
   "source": [
    "![](http://interactive.blockdiag.com/image?compression=deflate&encoding=base64&src=eJxLyslPzk7JTExXqOZSUFAPcnV0UUgrys9VKM_MzixIBcqoK-jaKRSlFpfmlBSDmOqefsGuQSEKJfkKBfnFJelAKXVrrloAaBAXgg)"
   ]
  },
  {
   "cell_type": "code",
   "execution_count": null,
   "metadata": {
    "collapsed": true
   },
   "outputs": [],
   "source": [
    "response=requests.get(\"https://google.com\")"
   ]
  },
  {
   "cell_type": "markdown",
   "metadata": {},
   "source": [
    "### Query Wikipedia"
   ]
  },
  {
   "cell_type": "code",
   "execution_count": null,
   "metadata": {
    "collapsed": true
   },
   "outputs": [],
   "source": [
    "response_wiki=requests.get(\"https://www.wikidata.org/w/api.php?action=wbgetentities&ids=Q39246&format=json\")"
   ]
  },
  {
   "cell_type": "code",
   "execution_count": null,
   "metadata": {
    "collapsed": true
   },
   "outputs": [],
   "source": [
    "response_json= response_wiki.json()"
   ]
  },
  {
   "cell_type": "code",
   "execution_count": null,
   "metadata": {
    "collapsed": true
   },
   "outputs": [],
   "source": [
    "response_json.keys()"
   ]
  },
  {
   "cell_type": "code",
   "execution_count": null,
   "metadata": {
    "collapsed": true
   },
   "outputs": [],
   "source": [
    "base_url = \"https://en.wikipedia.org/w/api.php\""
   ]
  },
  {
   "cell_type": "code",
   "execution_count": null,
   "metadata": {
    "collapsed": true
   },
   "outputs": [],
   "source": [
    "action = \"?action=mobileview\"\n",
    "parameters = \"&format=json&prop=sections&sections=all\"\n",
    "page = \"&page=\""
   ]
  },
  {
   "cell_type": "code",
   "execution_count": null,
   "metadata": {
    "collapsed": true
   },
   "outputs": [],
   "source": []
  },
  {
   "cell_type": "code",
   "execution_count": null,
   "metadata": {
    "collapsed": true
   },
   "outputs": [],
   "source": [
    "my_response=requests.get(\"https://en.wikipedia.org/w/api.php?action=query&format=json&list=categorymembers&explaintext=True&cmlimit=max&cmtitle=Category:Machine_learning\")\n",
    "\n",
    "\n",
    "\n"
   ]
  },
  {
   "cell_type": "code",
   "execution_count": null,
   "metadata": {
    "collapsed": true
   },
   "outputs": [],
   "source": [
    "my_response=my_response.json()"
   ]
  },
  {
   "cell_type": "code",
   "execution_count": null,
   "metadata": {
    "collapsed": true
   },
   "outputs": [],
   "source": [
    "my_response[\"query\"][\"categorymembers\"][:5]"
   ]
  },
  {
   "cell_type": "code",
   "execution_count": null,
   "metadata": {
    "collapsed": true
   },
   "outputs": [],
   "source": [
    "            http://en.wikipedia.org/w/api.php?\n",
    "            action=query&\n",
    "            format=json&\n",
    "            list=categorymembers&\n",
    "            cmtitle=Category:{}& \n",
    "            cmlimit=max"
   ]
  },
  {
   "cell_type": "code",
   "execution_count": null,
   "metadata": {
    "collapsed": true
   },
   "outputs": [],
   "source": [
    "    https://en.wikipedia.org/w/api.php?\n",
    "    action=query&\n",
    "    format=json&\n",
    "    list=categorymembers&\n",
    "    explaintext=True&cmlimit=max&cmtitle=Category:Machine_learning"
   ]
  },
  {
   "cell_type": "code",
   "execution_count": null,
   "metadata": {
    "collapsed": true
   },
   "outputs": [],
   "source": [
    "def get_page_ids(category):\n",
    "    if category[:9] == \"Category:\":\n",
    "        category= category[9:]\n",
    "    #replace spaces with underscore for articles longer than 1 word\n",
    "    category.replace(\" \", \"_\")    \n",
    "        \n",
    "    base_url=\"http://en.wikipedia.org/w/api.php\"\n",
    "    action=\"?action=query\"\n",
    "    parameters=\"&format=json&list=categorymembers&explaintext=True&cmlimit=max&cmtitle=Category:\"\n",
    "    \n",
    "    response=requests.get(base_url+action+parameters+category)\n",
    "    json=response.json()\n",
    "    articles=json[\"query\"][\"categorymembers\"]\n",
    "    \n",
    "\n",
    "    \n",
    "    page_ids=[]\n",
    "    title=[]\n",
    "    \n",
    "    for i in range(len(articles)):\n",
    "        #base case\n",
    "        if articles[i][\"ns\"]!=14:\n",
    "            page_ids.append(articles[i][\"pageid\"])\n",
    "            title.append(articles[i][\"title\"])\n",
    "        #recursion to get subcategories\n",
    "        elif articles[i][\"ns\"]==14:\n",
    "            page_ids += get_page_ids(articles[i][\"title\"])\n",
    "        \n",
    "    \n",
    "    return dict(zip(page_ids, title))"
   ]
  },
  {
   "cell_type": "code",
   "execution_count": null,
   "metadata": {
    "collapsed": true
   },
   "outputs": [],
   "source": [
    "my_articles=get_page_ids(\"Machine_learning\")"
   ]
  },
  {
   "cell_type": "code",
   "execution_count": null,
   "metadata": {
    "collapsed": true
   },
   "outputs": [],
   "source": [
    "len(my_articles)"
   ]
  },
  {
   "cell_type": "code",
   "execution_count": null,
   "metadata": {
    "collapsed": true
   },
   "outputs": [],
   "source": [
    "text=[]\n",
    "count=0\n",
    "for i in my_articles.keys():\n",
    "    try:\n",
    "        text.append(get_text(i))\n",
    "        count+=1\n",
    "    except:\n",
    "        print(count)\n",
    "text"
   ]
  },
  {
   "cell_type": "code",
   "execution_count": null,
   "metadata": {
    "collapsed": true
   },
   "outputs": [],
   "source": [
    "!sudo service postgresql start"
   ]
  },
  {
   "cell_type": "code",
   "execution_count": null,
   "metadata": {
    "collapsed": true
   },
   "outputs": [],
   "source": []
  },
  {
   "cell_type": "markdown",
   "metadata": {},
   "source": [
    "## "
   ]
  },
  {
   "cell_type": "code",
   "execution_count": null,
   "metadata": {
    "collapsed": true
   },
   "outputs": [],
   "source": []
  },
  {
   "cell_type": "code",
   "execution_count": null,
   "metadata": {
    "collapsed": true
   },
   "outputs": [],
   "source": [
    "#Startttt"
   ]
  },
  {
   "cell_type": "code",
   "execution_count": null,
   "metadata": {
    "collapsed": true
   },
   "outputs": [],
   "source": [
    "!pip install wikipedia"
   ]
  },
  {
   "cell_type": "code",
   "execution_count": null,
   "metadata": {
    "collapsed": true
   },
   "outputs": [],
   "source": [
    "get_text(44439173)[:2000]"
   ]
  },
  {
   "cell_type": "code",
   "execution_count": 3,
   "metadata": {
    "collapsed": true
   },
   "outputs": [],
   "source": [
    "import wikipedia\n",
    "def get_text(page_id):\n",
    "    page = wikipedia.WikipediaPage(pageid=str(page_id), preload = True)\n",
    "    return cleaner(page.content)"
   ]
  },
  {
   "cell_type": "code",
   "execution_count": 4,
   "metadata": {
    "collapsed": true
   },
   "outputs": [],
   "source": [
    "def cleaner(message):\n",
    "    message = re.sub('\\.+', ' ', message)\n",
    "    message = re.sub('[^a-z0-9 ]','', message.lower())\n",
    "    message = re.sub('\\d+','NUMBER ',message)\n",
    "    message = re.sub('\\s+',' ',message)\n",
    "    return message"
   ]
  },
  {
   "cell_type": "code",
   "execution_count": null,
   "metadata": {
    "collapsed": true
   },
   "outputs": [],
   "source": [
    "import wikipedia\n",
    "# results = wikipedia.search(query=\"M\", results = 10)\n",
    "page = wikipedia.WikipediaPage(pageid=\"44439173\", preload = True)\n",
    "page.content"
   ]
  },
  {
   "cell_type": "code",
   "execution_count": null,
   "metadata": {
    "collapsed": true
   },
   "outputs": [],
   "source": [
    "PART 1 todo:\n",
    "    -make schema\n",
    "    -pull from wikipedia in a usable form (dictionary) to push to postgresSQL\n",
    "    "
   ]
  },
  {
   "cell_type": "code",
   "execution_count": null,
   "metadata": {
    "collapsed": true
   },
   "outputs": [],
   "source": [
    "article=wikipedia.page('\"Hello, World!\" program')\n",
    "article.content"
   ]
  },
  {
   "cell_type": "code",
   "execution_count": null,
   "metadata": {
    "collapsed": true
   },
   "outputs": [],
   "source": []
  },
  {
   "cell_type": "code",
   "execution_count": null,
   "metadata": {
    "collapsed": true
   },
   "outputs": [],
   "source": []
  },
  {
   "cell_type": "code",
   "execution_count": 5,
   "metadata": {
    "collapsed": true
   },
   "outputs": [],
   "source": [
    "def generate_category(category):\n",
    "    '''\n",
    "    format a category for insertion in to a wikipedia api call\n",
    "    '''\n",
    "    category = re.sub('\\s','_',category)\n",
    "    return category"
   ]
  },
  {
   "cell_type": "code",
   "execution_count": null,
   "metadata": {
    "collapsed": true
   },
   "outputs": [],
   "source": [
    "generate_category('Machine learning')"
   ]
  },
  {
   "cell_type": "code",
   "execution_count": 6,
   "metadata": {
    "collapsed": true
   },
   "outputs": [],
   "source": [
    "def generate_query(category):\n",
    "    '''\n",
    "    Format an api call for requests\n",
    "    '''\n",
    "    query = \"\"\"\n",
    "            http://en.wikipedia.org/w/api.php?\n",
    "            action=query&\n",
    "            format=json&\n",
    "            list=categorymembers&\n",
    "            cmlimit=max&\n",
    "            explaintext=True&\n",
    "            cmtitle=Category:{} \n",
    "            \n",
    "            \"\"\".format(generate_category(category))\n",
    "    query = re.sub('\\s','',query)\n",
    "    return query"
   ]
  },
  {
   "cell_type": "code",
   "execution_count": null,
   "metadata": {
    "collapsed": true
   },
   "outputs": [],
   "source": [
    "generate_query('Business_software')"
   ]
  },
  {
   "cell_type": "code",
   "execution_count": 7,
   "metadata": {
    "collapsed": true
   },
   "outputs": [],
   "source": [
    "def execute_category_query(category):\n",
    "    '''\n",
    "    Executes a category qeury and returns a \n",
    "    DataFrame of the category members\n",
    "    '''\n",
    "    \n",
    "    r = requests.get(generate_query(category))\n",
    "    response = r.json()\n",
    "    return pd.DataFrame(response['query']['categorymembers'])"
   ]
  },
  {
   "cell_type": "code",
   "execution_count": null,
   "metadata": {
    "collapsed": true
   },
   "outputs": [],
   "source": [
    "execute_category_query('Business software')"
   ]
  },
  {
   "cell_type": "code",
   "execution_count": 8,
   "metadata": {
    "collapsed": true
   },
   "outputs": [],
   "source": [
    "def remove_category(category):\n",
    "    category = re.sub('Category:','',category)\n",
    "    return category"
   ]
  },
  {
   "cell_type": "code",
   "execution_count": null,
   "metadata": {
    "collapsed": true
   },
   "outputs": [],
   "source": [
    "remove_category('machine learning')"
   ]
  },
  {
   "cell_type": "code",
   "execution_count": null,
   "metadata": {
    "collapsed": true
   },
   "outputs": [],
   "source": [
    "categories_to_query = test[category_mask]['title'].apply(remove_category).tolist()"
   ]
  },
  {
   "cell_type": "code",
   "execution_count": 16,
   "metadata": {
    "collapsed": true
   },
   "outputs": [],
   "source": [
    "def get_all_pages_rec(category, level):\n",
    "    category_df = execute_category_query(category)\n",
    "    \n",
    "    if category_df.shape == (0, 0):\n",
    "        return None\n",
    "    pages_list = []\n",
    "    \n",
    "    \n",
    "    category_mask = category_df['title'].str.contains('Category:')\n",
    "    pages_df = category_df[~category_mask]\n",
    "    pages_list.append(pages_df)\n",
    "    \n",
    "    categories = category_df[category_mask]['title']\\\n",
    "                            .str.replace('Category:','').tolist()\n",
    "    if len(categories) > 0:\n",
    "        for cat in categories:\n",
    "            if level>0:\n",
    "                level-=1\n",
    "                pages_list.append(get_all_pages_rec(cat, level-1))\n",
    "                level+=1\n",
    "    pages_df = pd.concat(pages_list)\n",
    "    pages_df.reset_index(drop=True)\n",
    "    return pages_df"
   ]
  },
  {
   "cell_type": "code",
   "execution_count": 22,
   "metadata": {
    "collapsed": true
   },
   "outputs": [],
   "source": [
    "def get_whole_category(category):\n",
    "    df = get_all_pages_rec(category, 5)\n",
    "    df = df.drop_duplicates().reset_index(drop=True)\n",
    "    df['category_id'] = category\n",
    "    return df"
   ]
  },
  {
   "cell_type": "code",
   "execution_count": 23,
   "metadata": {},
   "outputs": [
    {
     "data": {
      "text/plain": [
       "(1107, 4)"
      ]
     },
     "execution_count": 23,
     "metadata": {},
     "output_type": "execute_result"
    }
   ],
   "source": [
    "ml_df=get_whole_category('Machine learning')\n",
    "ml_df.shape"
   ]
  },
  {
   "cell_type": "code",
   "execution_count": null,
   "metadata": {
    "collapsed": true
   },
   "outputs": [],
   "source": []
  },
  {
   "cell_type": "code",
   "execution_count": 19,
   "metadata": {},
   "outputs": [
    {
     "data": {
      "text/plain": [
       "(3054, 4)"
      ]
     },
     "execution_count": 19,
     "metadata": {},
     "output_type": "execute_result"
    }
   ],
   "source": [
    "bs_df=get_whole_category('Business software')\n",
    "bs_df.shape"
   ]
  },
  {
   "cell_type": "code",
   "execution_count": null,
   "metadata": {
    "collapsed": true
   },
   "outputs": [],
   "source": [
    "import psycopg2 as pg2\n",
    "from psycopg2.extras import RealDictCursor"
   ]
  },
  {
   "cell_type": "code",
   "execution_count": null,
   "metadata": {
    "collapsed": true
   },
   "outputs": [],
   "source": [
    "connection = pg2.connect(host=\"postgres\", database=\"wiki\", user=\"postgres\")\n",
    "cursor = connection.cursor(cursor_factory=RealDictCursor)\n",
    "#sqlalchemy"
   ]
  },
  {
   "cell_type": "code",
   "execution_count": null,
   "metadata": {
    "collapsed": true
   },
   "outputs": [],
   "source": [
    "bs_df.head()"
   ]
  },
  {
   "cell_type": "code",
   "execution_count": null,
   "metadata": {
    "collapsed": true
   },
   "outputs": [],
   "source": [
    "def insert_table(pageid, title, category_id, engine):\n",
    "    stmt=(\"INSERT {} INTO wiki\".format(pageid, title, category_id)\n",
    "    \n",
    "    return engine.execute(stmt)"
   ]
  },
  {
   "cell_type": "code",
   "execution_count": null,
   "metadata": {
    "collapsed": true
   },
   "outputs": [],
   "source": []
  },
  {
   "cell_type": "code",
   "execution_count": null,
   "metadata": {
    "collapsed": true
   },
   "outputs": [],
   "source": []
  },
  {
   "cell_type": "markdown",
   "metadata": {},
   "source": [
    "## Writing to Postgres / PostgresSQL schema"
   ]
  },
  {
   "cell_type": "markdown",
   "metadata": {},
   "source": [
    "We will want the following two tables:\n",
    "    page\n",
    "    ====\n",
    "    title\n",
    "    page_ID\n",
    "    text\n",
    "    \n",
    "    subheadings\n",
    "    notes\n",
    "    \n",
    "    \n",
    "    category\n",
    "    ========\n",
    "    category_ID\n",
    "    title\n",
    "    \n",
    "    \n",
    "    page-category\n",
    "    ============\n",
    "    page_category_id\n",
    "    page_id\n",
    "    category_id\n",
    "    \n",
    "    "
   ]
  },
  {
   "cell_type": "markdown",
   "metadata": {},
   "source": [
    "|page_id | title |\n",
    "|:-:|:-:|\n",
    "| 1 | logistic regression |\n",
    "| 2 | perceptron | \n",
    "| 3 | random forest | \n",
    "\n",
    "| category_id | title|\n",
    "|:-:|:-:|\n",
    "| 1 | machine learning |\n",
    "| 2 | linear models |\n",
    "| 3 | tree models |\n",
    "\n",
    "\n",
    "|p_c_id | p_id | c_id|\n",
    "|:-:|:-:|:-:|\n",
    "| 1 | 1 | 1 |\n",
    "| 2 | 1 | 2 |\n",
    "| 3 | 2 | 1 |\n",
    "| 4 | 2 | 2 |\n",
    "| 5 | 3 | 1 |\n",
    "| 6 | 3 | 3 |"
   ]
  },
  {
   "cell_type": "code",
   "execution_count": null,
   "metadata": {
    "collapsed": true
   },
   "outputs": [],
   "source": [
    "#unresolved:  2) put all text in database 3) TYPES OF tables put in using to_sql\n",
    "\n",
    "# # To do\n",
    "# 1) LSA- search query find top 5 articles lsa->prediction\n",
    "#    -query database fore text; vectorize, SVD\n",
    "# 2) PREDICT CATEGORY OF TERM -mikes -> description\n"
   ]
  },
  {
   "cell_type": "code",
   "execution_count": null,
   "metadata": {
    "collapsed": true
   },
   "outputs": [],
   "source": []
  }
 ],
 "metadata": {
  "kernelspec": {
   "display_name": "Python 3",
   "language": "python",
   "name": "python3"
  },
  "language_info": {
   "codemirror_mode": {
    "name": "ipython",
    "version": 3
   },
   "file_extension": ".py",
   "mimetype": "text/x-python",
   "name": "python",
   "nbconvert_exporter": "python",
   "pygments_lexer": "ipython3",
   "version": "3.6.2"
  }
 },
 "nbformat": 4,
 "nbformat_minor": 2
}
